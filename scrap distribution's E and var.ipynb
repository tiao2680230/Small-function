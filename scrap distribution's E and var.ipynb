{
 "cells": [
  {
   "cell_type": "code",
   "execution_count": 74,
   "metadata": {},
   "outputs": [],
   "source": [
    "import pandas as pd\n",
    "import requests\n",
    "from bs4 import BeautifulSoup"
   ]
  },
  {
   "cell_type": "code",
   "execution_count": 114,
   "metadata": {},
   "outputs": [
    {
     "name": "stdout",
     "output_type": "stream",
     "text": [
      "E(X) https://wikimedia.org/api/rest_v1/media/math/render/svg/b43d0ea3c9c025af1be9128e62a18fa74bedda2a\n",
      "Var(X) https://wikimedia.org/api/rest_v1/media/math/render/svg/b43d0ea3c9c025af1be9128e62a18fa74bedda2a\n"
     ]
    }
   ],
   "source": [
    "def search_E_var(Name):\n",
    "    Name=Name.capitalize()\n",
    "    page=requests.get('https://en.wikipedia.org/wiki/'+Name+'_distribution')  #####take the E(X)\n",
    "    soup=BeautifulSoup(page.content,'html.parser')\n",
    "    #print(soup.prettify())   #clear the sturcture of html and nest all tags\n",
    "    i=0\n",
    "    if Name==\"Gamma\": i=1\n",
    "    mean_soup=soup.find('a',title=\"Expected value\").parent.parent\n",
    "    layer1=mean_soup.find_all(class_='mwe-math-element')[i].select('img')[0]\n",
    "    mean_str=layer1.get('alt')\n",
    "    mean_src=layer1.get('src')\n",
    "    print('E(X)',mean_src)\n",
    "    #####take the Var(X)\n",
    "\n",
    "    var_soup=soup.find('a',title=\"Variance\").parent.parent\n",
    "    layer1=var_soup.find_all(class_='mwe-math-element')[i].select('img')[0]\n",
    "    var_str=layer1.get('alt')\n",
    "    var_src=layer1.get('src')\n",
    "    print('Var(X)',var_src)\n",
    "search_E_var('poisson')"
   ]
  },
  {
   "cell_type": "code",
   "execution_count": null,
   "metadata": {},
   "outputs": [],
   "source": []
  },
  {
   "cell_type": "code",
   "execution_count": null,
   "metadata": {},
   "outputs": [],
   "source": []
  },
  {
   "cell_type": "code",
   "execution_count": null,
   "metadata": {},
   "outputs": [],
   "source": []
  },
  {
   "cell_type": "code",
   "execution_count": null,
   "metadata": {},
   "outputs": [],
   "source": []
  }
 ],
 "metadata": {
  "kernelspec": {
   "display_name": "Python 3",
   "language": "python",
   "name": "python3"
  },
  "language_info": {
   "codemirror_mode": {
    "name": "ipython",
    "version": 3
   },
   "file_extension": ".py",
   "mimetype": "text/x-python",
   "name": "python",
   "nbconvert_exporter": "python",
   "pygments_lexer": "ipython3",
   "version": "3.7.4"
  }
 },
 "nbformat": 4,
 "nbformat_minor": 2
}
